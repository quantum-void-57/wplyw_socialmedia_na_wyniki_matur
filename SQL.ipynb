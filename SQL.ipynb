{
 "cells": [
  {
   "cell_type": "markdown",
   "metadata": {},
   "source": [
    "# <center>**Analiza wpływu czasu spędzanego w mediach społecznościowych przez nastolatków na wyniki egzaminu maturalnego w latach 2015–2022**<center>"
   ]
  },
  {
   "cell_type": "markdown",
   "metadata": {},
   "source": [
    "### <center>W dobie rosnącej popularności mediów społecznościowych, szczególnie wśród nastolatków, pojawia się istotne pytanie o ich potencjalny wpływ na wyniki edukacyjne. Niniejsza analiza koncentruje się na zbadaniu zależności między średnimi wynikami egzaminu maturalnego, a czasem poświęcanym na korzystanie z mediów społecznościowych przez młodzież w Polsce na przestrzeni ostatniej dekady.<center>"
   ]
  },
  {
   "cell_type": "markdown",
   "metadata": {},
   "source": [
    "## Źródła danych\n",
    "\n",
    "**W analizie wykorzystano dwa główne zbiory danych:**\n",
    "\n",
    "- **Dane dotyczące wyników matur**: Pochodzą z oficjalnych statystyk **Głównego Urzędu Statystycznego**.\n",
    "  \n",
    "  - Źródło: [Główny Urząd Statystyczny (GUS)](https://stat.gov.pl/obszary-tematyczne/edukacja/edukacja/srednie-wyniki-egzaminu-maturalnego,17,1.html)  \n",
    "    \n",
    "\n",
    "\n"
   ]
  },
  {
   "cell_type": "markdown",
   "metadata": {},
   "source": [
    "![Analiza danych](data/podgląd%20danych.png)"
   ]
  },
  {
   "cell_type": "markdown",
   "metadata": {},
   "source": [
    "    \n",
    "- **Czas spędzany przez nastolatków w mediach społecznościowych**: Dane pochodzą z raportów **Naukowej i Akademickiej Sieci Komputerowej (NASK)**, w tym z cyklu badań *\"Nastolatki 3.0\"*, które przedstawiają trendy dotyczące użytkowania Internetu przez młodzież.\n",
    "\n",
    "  - Źródło: [Raporty NASK - Nastolatki 3.0](https://nask.pl/magazyn/nastolatki-3-0-raport-z-ogolnopolskiego-badania-uczniow-i-rodzicow/)\n",
    "\n",
    "Dane zostały pobrane, przetworzone oraz zintegrowane w celu przeprowadzenia szczegółowej analizy statystycznej, której wyniki przedstawiono w dalszej części raportu."
   ]
  },
  {
   "cell_type": "markdown",
   "metadata": {},
   "source": [
    "<p align=\"center\">\n",
    "  <img src=\"data/Analiza%20trendu%20social_media%20NASK.png\" alt=\"Analiza danych\">\n",
    "</p>\n"
   ]
  },
  {
   "cell_type": "markdown",
   "metadata": {},
   "source": [
    "## W tej wersji analizy prezentuję proces przeprowadzony w MySQL oraz PowerBi"
   ]
  },
  {
   "cell_type": "markdown",
   "metadata": {},
   "source": [
    "![Analiza danych](sql/powerbi_screenshots/1.png)"
   ]
  },
  {
   "cell_type": "markdown",
   "metadata": {},
   "source": [
    "![Analiza danych](sql/powerbi_screenshots/2.png)"
   ]
  },
  {
   "cell_type": "markdown",
   "metadata": {},
   "source": [
    "![Analiza danych](sql/powerbi_screenshots/3.png)"
   ]
  },
  {
   "cell_type": "markdown",
   "metadata": {},
   "source": [
    "![Analiza danych](sql/powerbi_screenshots/4.png)"
   ]
  },
  {
   "cell_type": "markdown",
   "metadata": {},
   "source": [
    "![Analiza danych](sql/powerbi_screenshots/6.png)"
   ]
  },
  {
   "cell_type": "markdown",
   "metadata": {},
   "source": [
    "![Analiza danych](sql/powerbi_screenshots/7.png)"
   ]
  },
  {
   "cell_type": "markdown",
   "metadata": {},
   "source": [
    "![Analiza danych](sql/powerbi_screenshots/8.png)"
   ]
  },
  {
   "cell_type": "markdown",
   "metadata": {},
   "source": [
    "![Analiza danych](sql/powerbi_screenshots/9.png)"
   ]
  },
  {
   "cell_type": "markdown",
   "metadata": {},
   "source": [
    "![Analiza danych](sql/powerbi_screenshots/10.png)"
   ]
  },
  {
   "cell_type": "markdown",
   "metadata": {},
   "source": [
    "![Analiza danych](sql/powerbi_screenshots/12.png)"
   ]
  },
  {
   "cell_type": "markdown",
   "metadata": {},
   "source": [
    "##  Kluczowe wnioski:  \n",
    "✅ Brak jednoznacznego negatywnego wpływu social mediów na matury – zależy to od przedmiotu i poziomu.  \n",
    "\n",
    "⬆️ Język angielski może korzystać na social mediach, prawdopodobnie przez ekspozycję na język w internecie.  \n",
    "\n",
    "📉 Język polski wydaje się najbardziej narażony na negatywny wpływ – uczniowie spędzający więcej czasu w social mediach mają gorsze wyniki.  \n",
    "\n",
    "❓ Matematyka jest neutralna – korelacje są niskie i niejednoznaczne.  \n",
    "\n",
    "\n"
   ]
  },
  {
   "cell_type": "markdown",
   "metadata": {},
   "source": [
    "\n",
    "  \n",
    "\n",
    "# <center>**Podsumowanie**<center>  \n",
    "- Istnieje korelacja między wzrostem czasu w social mediach a spadkiem wyników matur, zwłaszcza w latach 2015-2020.  \n",
    "\n",
    "- Największy spadek wyników w 2020 r. był prawdopodobnie wynikiem pandemii i przejścia na naukę zdalną.  \n",
    "\n",
    "- Od 2021 r. wyniki matur poprawiają się, ale poziom korzystania z social mediów pozostaje wysoki.  \n",
    "\n",
    "- Warto przeanalizować wpływ poszczególnych platform społecznościowych oraz metody nauczania na osiągane wyniki."
   ]
  }
 ],
 "metadata": {
  "language_info": {
   "name": "python"
  }
 },
 "nbformat": 4,
 "nbformat_minor": 2
}
